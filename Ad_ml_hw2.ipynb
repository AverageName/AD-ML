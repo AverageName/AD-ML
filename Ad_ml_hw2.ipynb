{
 "cells": [
  {
   "cell_type": "code",
   "execution_count": 1,
   "metadata": {
    "id": "vVBb40zl1wK2"
   },
   "outputs": [],
   "source": [
    "import pickle\n",
    "from scipy import sparse\n",
    "from sklearn.linear_model import Ridge, LogisticRegression\n",
    "import statistics\n",
    "from tqdm import tqdm\n",
    "import scipy.stats as sts"
   ]
  },
  {
   "cell_type": "code",
   "execution_count": 2,
   "metadata": {
    "id": "HhMD-rOb1yo0"
   },
   "outputs": [],
   "source": [
    "from datetime import datetime\n",
    "from collections import defaultdict\n",
    "import matplotlib.pyplot as plt\n",
    "import numpy as np\n",
    "import pandas as pd\n",
    "import requests\n",
    "import itertools\n",
    "import math"
   ]
  },
  {
   "cell_type": "markdown",
   "metadata": {
    "id": "zPhPW7NaESTR"
   },
   "source": [
    "## Подготовка данных"
   ]
  },
  {
   "cell_type": "code",
   "execution_count": 3,
   "metadata": {
    "id": "odrz5imH131p"
   },
   "outputs": [],
   "source": [
    "with open('results.pkl', 'rb') as file:\n",
    "    results = pickle.load(file)\n",
    "with open('players.pkl', 'rb') as file:\n",
    "    players = pickle.load(file)\n",
    "with open('tournaments.pkl', 'rb') as file:\n",
    "    tournaments = pickle.load(file)"
   ]
  },
  {
   "cell_type": "code",
   "execution_count": 4,
   "metadata": {
    "id": "lyMP4stj_Y8q"
   },
   "outputs": [
    {
     "name": "stderr",
     "output_type": "stream",
     "text": [
      "/var/folders/3d/d1dc45z108zcqvtsjft6n_140000gp/T/ipykernel_2018/3564731581.py:6: UserWarning: The argument 'infer_datetime_format' is deprecated and will be removed in a future version. A strict version of it is now the default, see https://pandas.pydata.org/pdeps/0004-consistent-to-datetime-parsing.html. You can safely remove this argument.\n",
      "  tournaments_pd[\"dateStart\"] = pd.to_datetime(tournaments_pd[\"dateStart\"].str[:10], infer_datetime_format=True)\n",
      "/var/folders/3d/d1dc45z108zcqvtsjft6n_140000gp/T/ipykernel_2018/3564731581.py:7: UserWarning: The argument 'infer_datetime_format' is deprecated and will be removed in a future version. A strict version of it is now the default, see https://pandas.pydata.org/pdeps/0004-consistent-to-datetime-parsing.html. You can safely remove this argument.\n",
      "  tournaments_pd[\"dateEnd\"] = pd.to_datetime(tournaments_pd[\"dateEnd\"].str[:10], infer_datetime_format=True)\n"
     ]
    }
   ],
   "source": [
    "players = pd.DataFrame(players).transpose()\n",
    "players[\"id\"] = players[\"id\"].astype(int)\n",
    "\n",
    "tournaments_pd = pd.DataFrame(tournaments).transpose()\n",
    "tournaments_pd[\"id\"] = tournaments_pd[\"id\"].astype(int)\n",
    "tournaments_pd[\"dateStart\"] = pd.to_datetime(tournaments_pd[\"dateStart\"].str[:10], infer_datetime_format=True)\n",
    "tournaments_pd[\"dateEnd\"] = pd.to_datetime(tournaments_pd[\"dateEnd\"].str[:10], infer_datetime_format=True)\n",
    "\n",
    "tournaments_train = tournaments_pd[tournaments_pd[\"dateStart\"].dt.year == 2019].reset_index(drop=True)\n",
    "tournaments_test = tournaments_pd[tournaments_pd[\"dateStart\"].dt.year == 2020].reset_index(drop=True)"
   ]
  },
  {
   "cell_type": "code",
   "execution_count": 5,
   "metadata": {
    "colab": {
     "base_uri": "https://localhost:8080/",
     "height": 407
    },
    "id": "jDy1hJ13_kW3",
    "outputId": "ec3d4769-43eb-4ae0-a180-e436dd5ca955"
   },
   "outputs": [
    {
     "data": {
      "text/html": [
       "<div>\n",
       "<style scoped>\n",
       "    .dataframe tbody tr th:only-of-type {\n",
       "        vertical-align: middle;\n",
       "    }\n",
       "\n",
       "    .dataframe tbody tr th {\n",
       "        vertical-align: top;\n",
       "    }\n",
       "\n",
       "    .dataframe thead th {\n",
       "        text-align: right;\n",
       "    }\n",
       "</style>\n",
       "<table border=\"1\" class=\"dataframe\">\n",
       "  <thead>\n",
       "    <tr style=\"text-align: right;\">\n",
       "      <th></th>\n",
       "      <th>id</th>\n",
       "      <th>name</th>\n",
       "      <th>dateStart</th>\n",
       "      <th>dateEnd</th>\n",
       "      <th>type</th>\n",
       "      <th>season</th>\n",
       "      <th>orgcommittee</th>\n",
       "      <th>synchData</th>\n",
       "      <th>questionQty</th>\n",
       "    </tr>\n",
       "  </thead>\n",
       "  <tbody>\n",
       "    <tr>\n",
       "      <th>0</th>\n",
       "      <td>4772</td>\n",
       "      <td>Синхрон северных стран. Зимний выпуск</td>\n",
       "      <td>2019-01-05</td>\n",
       "      <td>2019-01-09</td>\n",
       "      <td>{'id': 3, 'name': 'Синхрон'}</td>\n",
       "      <td>/seasons/52</td>\n",
       "      <td>[{'id': 28379, 'name': 'Константин', 'patronym...</td>\n",
       "      <td>{'dateRequestsAllowedTo': '2019-01-09T23:59:59...</td>\n",
       "      <td>{'1': 12, '2': 12, '3': 12}</td>\n",
       "    </tr>\n",
       "    <tr>\n",
       "      <th>1</th>\n",
       "      <td>4973</td>\n",
       "      <td>Балтийский Берег. 3 игра</td>\n",
       "      <td>2019-01-25</td>\n",
       "      <td>2019-01-29</td>\n",
       "      <td>{'id': 3, 'name': 'Синхрон'}</td>\n",
       "      <td>/seasons/52</td>\n",
       "      <td>[{'id': 23030, 'name': 'Марина', 'patronymic':...</td>\n",
       "      <td>{'dateRequestsAllowedTo': '2019-01-28T23:59:59...</td>\n",
       "      <td>{'1': 12, '2': 12, '3': 12}</td>\n",
       "    </tr>\n",
       "    <tr>\n",
       "      <th>2</th>\n",
       "      <td>4974</td>\n",
       "      <td>Балтийский Берег. 4 игра</td>\n",
       "      <td>2019-03-01</td>\n",
       "      <td>2019-03-05</td>\n",
       "      <td>{'id': 3, 'name': 'Синхрон'}</td>\n",
       "      <td>/seasons/52</td>\n",
       "      <td>[{'id': 23030, 'name': 'Марина', 'patronymic':...</td>\n",
       "      <td>{'dateRequestsAllowedTo': '2019-03-04T23:59:59...</td>\n",
       "      <td>{'1': 12, '2': 12, '3': 12}</td>\n",
       "    </tr>\n",
       "    <tr>\n",
       "      <th>3</th>\n",
       "      <td>4975</td>\n",
       "      <td>Балтийский Берег. 5 игра</td>\n",
       "      <td>2019-04-05</td>\n",
       "      <td>2019-04-09</td>\n",
       "      <td>{'id': 3, 'name': 'Синхрон'}</td>\n",
       "      <td>/seasons/52</td>\n",
       "      <td>[{'id': 23030, 'name': 'Марина', 'patronymic':...</td>\n",
       "      <td>{'dateRequestsAllowedTo': '2019-04-08T23:59:59...</td>\n",
       "      <td>{'1': 12, '2': 12, '3': 12}</td>\n",
       "    </tr>\n",
       "    <tr>\n",
       "      <th>4</th>\n",
       "      <td>4986</td>\n",
       "      <td>ОВСЧ. 6 этап</td>\n",
       "      <td>2019-02-15</td>\n",
       "      <td>2019-02-19</td>\n",
       "      <td>{'id': 3, 'name': 'Синхрон'}</td>\n",
       "      <td>/seasons/52</td>\n",
       "      <td>[{'id': 59140, 'name': 'Борис', 'patronymic': ...</td>\n",
       "      <td>{'dateRequestsAllowedTo': '2019-02-19T23:59:59...</td>\n",
       "      <td>{'1': 12, '2': 12, '3': 12}</td>\n",
       "    </tr>\n",
       "  </tbody>\n",
       "</table>\n",
       "</div>"
      ],
      "text/plain": [
       "     id                                   name  dateStart    dateEnd   \n",
       "0  4772  Синхрон северных стран. Зимний выпуск 2019-01-05 2019-01-09  \\\n",
       "1  4973               Балтийский Берег. 3 игра 2019-01-25 2019-01-29   \n",
       "2  4974               Балтийский Берег. 4 игра 2019-03-01 2019-03-05   \n",
       "3  4975               Балтийский Берег. 5 игра 2019-04-05 2019-04-09   \n",
       "4  4986                           ОВСЧ. 6 этап 2019-02-15 2019-02-19   \n",
       "\n",
       "                           type       season   \n",
       "0  {'id': 3, 'name': 'Синхрон'}  /seasons/52  \\\n",
       "1  {'id': 3, 'name': 'Синхрон'}  /seasons/52   \n",
       "2  {'id': 3, 'name': 'Синхрон'}  /seasons/52   \n",
       "3  {'id': 3, 'name': 'Синхрон'}  /seasons/52   \n",
       "4  {'id': 3, 'name': 'Синхрон'}  /seasons/52   \n",
       "\n",
       "                                        orgcommittee   \n",
       "0  [{'id': 28379, 'name': 'Константин', 'patronym...  \\\n",
       "1  [{'id': 23030, 'name': 'Марина', 'patronymic':...   \n",
       "2  [{'id': 23030, 'name': 'Марина', 'patronymic':...   \n",
       "3  [{'id': 23030, 'name': 'Марина', 'patronymic':...   \n",
       "4  [{'id': 59140, 'name': 'Борис', 'patronymic': ...   \n",
       "\n",
       "                                           synchData   \n",
       "0  {'dateRequestsAllowedTo': '2019-01-09T23:59:59...  \\\n",
       "1  {'dateRequestsAllowedTo': '2019-01-28T23:59:59...   \n",
       "2  {'dateRequestsAllowedTo': '2019-03-04T23:59:59...   \n",
       "3  {'dateRequestsAllowedTo': '2019-04-08T23:59:59...   \n",
       "4  {'dateRequestsAllowedTo': '2019-02-19T23:59:59...   \n",
       "\n",
       "                   questionQty  \n",
       "0  {'1': 12, '2': 12, '3': 12}  \n",
       "1  {'1': 12, '2': 12, '3': 12}  \n",
       "2  {'1': 12, '2': 12, '3': 12}  \n",
       "3  {'1': 12, '2': 12, '3': 12}  \n",
       "4  {'1': 12, '2': 12, '3': 12}  "
      ]
     },
     "execution_count": 5,
     "metadata": {},
     "output_type": "execute_result"
    }
   ],
   "source": [
    "tournaments_train.head()"
   ]
  },
  {
   "cell_type": "code",
   "execution_count": 6,
   "metadata": {
    "id": "AwpL9NeEAP6R"
   },
   "outputs": [],
   "source": [
    "results_have_mask = {}\n",
    "for key, value in results.items():\n",
    "    try:\n",
    "        if value[0][\"mask\"] is not None:\n",
    "            results_have_mask[key] = value\n",
    "    except Exception:\n",
    "        pass\n",
    "\n",
    "results_filtered = {}\n",
    "for tournament_id, teams in results_have_mask.items():\n",
    "    dict_ = {}\n",
    "    dict_[\"teams\"] = [team[\"team\"][\"id\"] for team in teams]\n",
    "    dict_[\"results\"] = [team[\"mask\"] for team in teams]\n",
    "    try:\n",
    "        dict_[\"position\"] = [team[\"position\"] for team in teams]\n",
    "    except Exception:\n",
    "        dict_[\"position\"] = [-1 for team in teams]\n",
    "        print(\"No position\")\n",
    "    all_teams = []\n",
    "    for team in teams:\n",
    "        curr_team = []\n",
    "        for member in team[\"teamMembers\"]:\n",
    "            curr_team.append(member[\"player\"][\"id\"])\n",
    "        all_teams.append(curr_team)\n",
    "    dict_[\"team_members\"] = all_teams\n",
    "    results_filtered[tournament_id] = dict_"
   ]
  },
  {
   "cell_type": "code",
   "execution_count": 7,
   "metadata": {
    "id": "xRjuvgkZDT12"
   },
   "outputs": [],
   "source": [
    "results_filtered_pd = pd.DataFrame(results_filtered).transpose()\n",
    "results_filtered_pd[\"id\"] = results_filtered_pd.index\n",
    "results_filtered_pd.reset_index(drop=True, inplace=True)\n",
    "\n",
    "tournaments_results_train = tournaments_train.merge(results_filtered_pd, on=\"id\")\n",
    "tournaments_results_test = tournaments_test.merge(results_filtered_pd, on=\"id\")"
   ]
  },
  {
   "cell_type": "code",
   "execution_count": 8,
   "metadata": {
    "colab": {
     "base_uri": "https://localhost:8080/",
     "height": 809
    },
    "id": "L1JF4lhdD-NY",
    "outputId": "a2b0a168-cef7-4f8d-bbb4-f63bb2d569fd"
   },
   "outputs": [
    {
     "data": {
      "text/html": [
       "<div>\n",
       "<style scoped>\n",
       "    .dataframe tbody tr th:only-of-type {\n",
       "        vertical-align: middle;\n",
       "    }\n",
       "\n",
       "    .dataframe tbody tr th {\n",
       "        vertical-align: top;\n",
       "    }\n",
       "\n",
       "    .dataframe thead th {\n",
       "        text-align: right;\n",
       "    }\n",
       "</style>\n",
       "<table border=\"1\" class=\"dataframe\">\n",
       "  <thead>\n",
       "    <tr style=\"text-align: right;\">\n",
       "      <th></th>\n",
       "      <th>id</th>\n",
       "      <th>name</th>\n",
       "      <th>dateStart</th>\n",
       "      <th>dateEnd</th>\n",
       "      <th>type</th>\n",
       "      <th>season</th>\n",
       "      <th>orgcommittee</th>\n",
       "      <th>synchData</th>\n",
       "      <th>questionQty</th>\n",
       "      <th>teams</th>\n",
       "      <th>results</th>\n",
       "      <th>position</th>\n",
       "      <th>team_members</th>\n",
       "    </tr>\n",
       "  </thead>\n",
       "  <tbody>\n",
       "    <tr>\n",
       "      <th>0</th>\n",
       "      <td>4772</td>\n",
       "      <td>Синхрон северных стран. Зимний выпуск</td>\n",
       "      <td>2019-01-05</td>\n",
       "      <td>2019-01-09</td>\n",
       "      <td>{'id': 3, 'name': 'Синхрон'}</td>\n",
       "      <td>/seasons/52</td>\n",
       "      <td>[{'id': 28379, 'name': 'Константин', 'patronym...</td>\n",
       "      <td>{'dateRequestsAllowedTo': '2019-01-09T23:59:59...</td>\n",
       "      <td>{'1': 12, '2': 12, '3': 12}</td>\n",
       "      <td>[45556, 1030, 4252, 5444, 40931, 47075, 53185,...</td>\n",
       "      <td>[111111111011111110111111111100010010, 1111111...</td>\n",
       "      <td>[1, 5.5, 5.5, 5.5, 5.5, 5.5, 5.5, 5.5, 5.5, 12...</td>\n",
       "      <td>[[6212, 18332, 18036, 22799, 15456, 26089], [1...</td>\n",
       "    </tr>\n",
       "    <tr>\n",
       "      <th>1</th>\n",
       "      <td>4973</td>\n",
       "      <td>Балтийский Берег. 3 игра</td>\n",
       "      <td>2019-01-25</td>\n",
       "      <td>2019-01-29</td>\n",
       "      <td>{'id': 3, 'name': 'Синхрон'}</td>\n",
       "      <td>/seasons/52</td>\n",
       "      <td>[{'id': 23030, 'name': 'Марина', 'patronymic':...</td>\n",
       "      <td>{'dateRequestsAllowedTo': '2019-01-28T23:59:59...</td>\n",
       "      <td>{'1': 12, '2': 12, '3': 12}</td>\n",
       "      <td>[45556, 69309, 27522, 67979, 2055, 4032, 6936,...</td>\n",
       "      <td>[111111111111111011110101110111111111, 1111111...</td>\n",
       "      <td>[1.5, 1.5, 3.5, 3.5, 7.5, 7.5, 7.5, 7.5, 7.5, ...</td>\n",
       "      <td>[[6212, 18332, 18036, 22799, 7008, 26089], [27...</td>\n",
       "    </tr>\n",
       "    <tr>\n",
       "      <th>2</th>\n",
       "      <td>4974</td>\n",
       "      <td>Балтийский Берег. 4 игра</td>\n",
       "      <td>2019-03-01</td>\n",
       "      <td>2019-03-05</td>\n",
       "      <td>{'id': 3, 'name': 'Синхрон'}</td>\n",
       "      <td>/seasons/52</td>\n",
       "      <td>[{'id': 23030, 'name': 'Марина', 'patronymic':...</td>\n",
       "      <td>{'dateRequestsAllowedTo': '2019-03-04T23:59:59...</td>\n",
       "      <td>{'1': 12, '2': 12, '3': 12}</td>\n",
       "      <td>[2865, 69309, 6874, 27522, 56664, 1021, 4622, ...</td>\n",
       "      <td>[111111111111111111111111111101111111, 1111111...</td>\n",
       "      <td>[1.5, 1.5, 4, 4, 4, 7, 7, 7, 13, 13, 13, 13, 1...</td>\n",
       "      <td>[[19411, 24290, 32979, 5195, 33806, 9680], [27...</td>\n",
       "    </tr>\n",
       "    <tr>\n",
       "      <th>3</th>\n",
       "      <td>4975</td>\n",
       "      <td>Балтийский Берег. 5 игра</td>\n",
       "      <td>2019-04-05</td>\n",
       "      <td>2019-04-09</td>\n",
       "      <td>{'id': 3, 'name': 'Синхрон'}</td>\n",
       "      <td>/seasons/52</td>\n",
       "      <td>[{'id': 23030, 'name': 'Марина', 'patronymic':...</td>\n",
       "      <td>{'dateRequestsAllowedTo': '2019-04-08T23:59:59...</td>\n",
       "      <td>{'1': 12, '2': 12, '3': 12}</td>\n",
       "      <td>[4174, 45556, 70530, 7864, 7896, 27119, 33088,...</td>\n",
       "      <td>[110101011111111111110011111110111110, 1111010...</td>\n",
       "      <td>[2, 2, 2, 7.5, 7.5, 7.5, 7.5, 7.5, 7.5, 7.5, 7...</td>\n",
       "      <td>[[13345, 29425, 52183, 34417, 30772, 93424], [...</td>\n",
       "    </tr>\n",
       "    <tr>\n",
       "      <th>4</th>\n",
       "      <td>4986</td>\n",
       "      <td>ОВСЧ. 6 этап</td>\n",
       "      <td>2019-02-15</td>\n",
       "      <td>2019-02-19</td>\n",
       "      <td>{'id': 3, 'name': 'Синхрон'}</td>\n",
       "      <td>/seasons/52</td>\n",
       "      <td>[{'id': 59140, 'name': 'Борис', 'patronymic': ...</td>\n",
       "      <td>{'dateRequestsAllowedTo': '2019-02-19T23:59:59...</td>\n",
       "      <td>{'1': 12, '2': 12, '3': 12}</td>\n",
       "      <td>[69309, 49758, 312, 27177, 928, 38722, 45174, ...</td>\n",
       "      <td>[11111111111111110111101X111111111111, 1111111...</td>\n",
       "      <td>[1, 2, 3.5, 3.5, 6.5, 6.5, 6.5, 6.5, 11, 11, 1...</td>\n",
       "      <td>[[27822, 28751, 30270, 33620, 2421], [6482, 13...</td>\n",
       "    </tr>\n",
       "  </tbody>\n",
       "</table>\n",
       "</div>"
      ],
      "text/plain": [
       "     id                                   name  dateStart    dateEnd   \n",
       "0  4772  Синхрон северных стран. Зимний выпуск 2019-01-05 2019-01-09  \\\n",
       "1  4973               Балтийский Берег. 3 игра 2019-01-25 2019-01-29   \n",
       "2  4974               Балтийский Берег. 4 игра 2019-03-01 2019-03-05   \n",
       "3  4975               Балтийский Берег. 5 игра 2019-04-05 2019-04-09   \n",
       "4  4986                           ОВСЧ. 6 этап 2019-02-15 2019-02-19   \n",
       "\n",
       "                           type       season   \n",
       "0  {'id': 3, 'name': 'Синхрон'}  /seasons/52  \\\n",
       "1  {'id': 3, 'name': 'Синхрон'}  /seasons/52   \n",
       "2  {'id': 3, 'name': 'Синхрон'}  /seasons/52   \n",
       "3  {'id': 3, 'name': 'Синхрон'}  /seasons/52   \n",
       "4  {'id': 3, 'name': 'Синхрон'}  /seasons/52   \n",
       "\n",
       "                                        orgcommittee   \n",
       "0  [{'id': 28379, 'name': 'Константин', 'patronym...  \\\n",
       "1  [{'id': 23030, 'name': 'Марина', 'patronymic':...   \n",
       "2  [{'id': 23030, 'name': 'Марина', 'patronymic':...   \n",
       "3  [{'id': 23030, 'name': 'Марина', 'patronymic':...   \n",
       "4  [{'id': 59140, 'name': 'Борис', 'patronymic': ...   \n",
       "\n",
       "                                           synchData   \n",
       "0  {'dateRequestsAllowedTo': '2019-01-09T23:59:59...  \\\n",
       "1  {'dateRequestsAllowedTo': '2019-01-28T23:59:59...   \n",
       "2  {'dateRequestsAllowedTo': '2019-03-04T23:59:59...   \n",
       "3  {'dateRequestsAllowedTo': '2019-04-08T23:59:59...   \n",
       "4  {'dateRequestsAllowedTo': '2019-02-19T23:59:59...   \n",
       "\n",
       "                   questionQty   \n",
       "0  {'1': 12, '2': 12, '3': 12}  \\\n",
       "1  {'1': 12, '2': 12, '3': 12}   \n",
       "2  {'1': 12, '2': 12, '3': 12}   \n",
       "3  {'1': 12, '2': 12, '3': 12}   \n",
       "4  {'1': 12, '2': 12, '3': 12}   \n",
       "\n",
       "                                               teams   \n",
       "0  [45556, 1030, 4252, 5444, 40931, 47075, 53185,...  \\\n",
       "1  [45556, 69309, 27522, 67979, 2055, 4032, 6936,...   \n",
       "2  [2865, 69309, 6874, 27522, 56664, 1021, 4622, ...   \n",
       "3  [4174, 45556, 70530, 7864, 7896, 27119, 33088,...   \n",
       "4  [69309, 49758, 312, 27177, 928, 38722, 45174, ...   \n",
       "\n",
       "                                             results   \n",
       "0  [111111111011111110111111111100010010, 1111111...  \\\n",
       "1  [111111111111111011110101110111111111, 1111111...   \n",
       "2  [111111111111111111111111111101111111, 1111111...   \n",
       "3  [110101011111111111110011111110111110, 1111010...   \n",
       "4  [11111111111111110111101X111111111111, 1111111...   \n",
       "\n",
       "                                            position   \n",
       "0  [1, 5.5, 5.5, 5.5, 5.5, 5.5, 5.5, 5.5, 5.5, 12...  \\\n",
       "1  [1.5, 1.5, 3.5, 3.5, 7.5, 7.5, 7.5, 7.5, 7.5, ...   \n",
       "2  [1.5, 1.5, 4, 4, 4, 7, 7, 7, 13, 13, 13, 13, 1...   \n",
       "3  [2, 2, 2, 7.5, 7.5, 7.5, 7.5, 7.5, 7.5, 7.5, 7...   \n",
       "4  [1, 2, 3.5, 3.5, 6.5, 6.5, 6.5, 6.5, 11, 11, 1...   \n",
       "\n",
       "                                        team_members  \n",
       "0  [[6212, 18332, 18036, 22799, 15456, 26089], [1...  \n",
       "1  [[6212, 18332, 18036, 22799, 7008, 26089], [27...  \n",
       "2  [[19411, 24290, 32979, 5195, 33806, 9680], [27...  \n",
       "3  [[13345, 29425, 52183, 34417, 30772, 93424], [...  \n",
       "4  [[27822, 28751, 30270, 33620, 2421], [6482, 13...  "
      ]
     },
     "execution_count": 8,
     "metadata": {},
     "output_type": "execute_result"
    }
   ],
   "source": [
    "tournaments_results_train.head()"
   ]
  },
  {
   "cell_type": "markdown",
   "metadata": {
    "id": "QI_d8wlIEWrv"
   },
   "source": [
    "## Бейзлайн - логистическая регрессия на one-hot векторе игрока и one-hot векторе вопроса."
   ]
  },
  {
   "cell_type": "code",
   "execution_count": 9,
   "metadata": {
    "id": "VjxbQdUdEGq0"
   },
   "outputs": [],
   "source": [
    "def helper(id_, string):\n",
    "    if string is None:\n",
    "        return ['_'.join([str(id_), '0'])], [0]\n",
    "    s_list = list(string)\n",
    "    result = []\n",
    "    for s in s_list:\n",
    "        try:\n",
    "            result.append(int(s))\n",
    "        except:\n",
    "            result.append(0)\n",
    "    ids = ['_'.join([str(id_), str(i)]) for i in range(len(result))]\n",
    "    return ids, result\n",
    "\n",
    "def prepare_data(data):\n",
    "    tournament = data.drop(columns=[\"name\", \"dateStart\", \"dateEnd\", \"type\", \"season\", \"orgcommittee\", \"synchData\", \"questionQty\"]).explode([\"teams\", \"results\", \"position\", \"team_members\"]).explode(\"team_members\")\n",
    "    tournament[[f'{\"id\"}_q', \"results\"]] = tournament.apply(lambda row: helper(row[\"id\"], row[\"results\"]), axis=1,\n",
    "                                                result_type='expand')\n",
    "    tournament = tournament.explode([f'{\"id\"}_q', \"results\"])\n",
    "    tournament.dropna(inplace=True)\n",
    "    return tournament"
   ]
  },
  {
   "cell_type": "code",
   "execution_count": 10,
   "metadata": {
    "id": "zQXAoWIjRc3x"
   },
   "outputs": [],
   "source": [
    "data_train = prepare_data(tournaments_results_train)\n",
    "data_test = prepare_data(tournaments_results_test)"
   ]
  },
  {
   "cell_type": "code",
   "execution_count": 11,
   "metadata": {
    "colab": {
     "base_uri": "https://localhost:8080/",
     "height": 206
    },
    "id": "Wu1UXNhyResU",
    "outputId": "ea434df7-8004-4697-9d3a-8805a733840c"
   },
   "outputs": [
    {
     "data": {
      "text/html": [
       "<div>\n",
       "<style scoped>\n",
       "    .dataframe tbody tr th:only-of-type {\n",
       "        vertical-align: middle;\n",
       "    }\n",
       "\n",
       "    .dataframe tbody tr th {\n",
       "        vertical-align: top;\n",
       "    }\n",
       "\n",
       "    .dataframe thead th {\n",
       "        text-align: right;\n",
       "    }\n",
       "</style>\n",
       "<table border=\"1\" class=\"dataframe\">\n",
       "  <thead>\n",
       "    <tr style=\"text-align: right;\">\n",
       "      <th></th>\n",
       "      <th>id</th>\n",
       "      <th>teams</th>\n",
       "      <th>results</th>\n",
       "      <th>position</th>\n",
       "      <th>team_members</th>\n",
       "      <th>id_q</th>\n",
       "    </tr>\n",
       "  </thead>\n",
       "  <tbody>\n",
       "    <tr>\n",
       "      <th>0</th>\n",
       "      <td>4772</td>\n",
       "      <td>45556</td>\n",
       "      <td>1</td>\n",
       "      <td>1</td>\n",
       "      <td>6212</td>\n",
       "      <td>4772_0</td>\n",
       "    </tr>\n",
       "    <tr>\n",
       "      <th>0</th>\n",
       "      <td>4772</td>\n",
       "      <td>45556</td>\n",
       "      <td>1</td>\n",
       "      <td>1</td>\n",
       "      <td>6212</td>\n",
       "      <td>4772_1</td>\n",
       "    </tr>\n",
       "    <tr>\n",
       "      <th>0</th>\n",
       "      <td>4772</td>\n",
       "      <td>45556</td>\n",
       "      <td>1</td>\n",
       "      <td>1</td>\n",
       "      <td>6212</td>\n",
       "      <td>4772_2</td>\n",
       "    </tr>\n",
       "    <tr>\n",
       "      <th>0</th>\n",
       "      <td>4772</td>\n",
       "      <td>45556</td>\n",
       "      <td>1</td>\n",
       "      <td>1</td>\n",
       "      <td>6212</td>\n",
       "      <td>4772_3</td>\n",
       "    </tr>\n",
       "    <tr>\n",
       "      <th>0</th>\n",
       "      <td>4772</td>\n",
       "      <td>45556</td>\n",
       "      <td>1</td>\n",
       "      <td>1</td>\n",
       "      <td>6212</td>\n",
       "      <td>4772_4</td>\n",
       "    </tr>\n",
       "  </tbody>\n",
       "</table>\n",
       "</div>"
      ],
      "text/plain": [
       "     id  teams results position team_members    id_q\n",
       "0  4772  45556       1        1         6212  4772_0\n",
       "0  4772  45556       1        1         6212  4772_1\n",
       "0  4772  45556       1        1         6212  4772_2\n",
       "0  4772  45556       1        1         6212  4772_3\n",
       "0  4772  45556       1        1         6212  4772_4"
      ]
     },
     "execution_count": 11,
     "metadata": {},
     "output_type": "execute_result"
    }
   ],
   "source": [
    "data_train.head()"
   ]
  },
  {
   "cell_type": "code",
   "execution_count": 12,
   "metadata": {
    "id": "xPU2ROmqRuL9"
   },
   "outputs": [],
   "source": [
    "data_train = data_train.astype(dtype={\"teams\": np.uint32, \"results\": np.uint8, \"id\": np.uint32, \"team_members\": np.uint32, \"position\": np.float32})\n",
    "data_test = data_test.astype(dtype={\"teams\": np.uint32, \"results\": np.uint8, \"id\": np.uint32, \"team_members\": np.uint32, \"position\": np.float32})"
   ]
  },
  {
   "cell_type": "code",
   "execution_count": 13,
   "metadata": {
    "id": "cM2Ei8EXT4yQ"
   },
   "outputs": [],
   "source": [
    "from sklearn.base import BaseEstimator\n",
    "from sklearn.mixture import GaussianMixture\n",
    "from sklearn.linear_model import LogisticRegressionCV, RidgeCV, LassoCV\n",
    "from sklearn.metrics import mean_absolute_error\n",
    "from sklearn.preprocessing import StandardScaler, OneHotEncoder\n",
    "from scipy.stats.mstats import spearmanr, kendalltau\n",
    "\n",
    "y_train = data_train[\"results\"].copy()\n",
    "ohe = OneHotEncoder()\n",
    "X_train = ohe.fit_transform(data_train[[\"team_members\", \"id_q\"]])"
   ]
  },
  {
   "cell_type": "markdown",
   "metadata": {
    "id": "U6kkhviNU42i"
   },
   "source": [
    "Для удобства использования в EM-алгоритме, напишем логистическую регрессию на PyTorch."
   ]
  },
  {
   "cell_type": "code",
   "execution_count": 14,
   "metadata": {
    "id": "gz3d2LQxUdGK"
   },
   "outputs": [],
   "source": [
    "import torch.nn as nn\n",
    "import torch\n",
    "import torch.nn.functional as F\n",
    "from IPython.display import clear_output\n",
    "\n",
    "\n",
    "class LogReg(nn.Module):\n",
    "    def __init__(self, in_feat, out_feat=1):\n",
    "        super().__init__()\n",
    "\n",
    "        self.linear = nn.Linear(in_feat, 1)\n",
    "    \n",
    "    def forward(self, x):\n",
    "        return F.sigmoid(self.linear(x))"
   ]
  },
  {
   "cell_type": "code",
   "execution_count": 15,
   "metadata": {
    "id": "aqIRYDQcW10q"
   },
   "outputs": [],
   "source": [
    "X_train = X_train.tocoo()\n",
    "\n",
    "x = torch.sparse.FloatTensor(\n",
    "    torch.LongTensor(np.vstack((X_train.row, X_train.col))),\n",
    "    torch.FloatTensor(X_train.data)\n",
    ")\n",
    "\n",
    "y = torch.FloatTensor(data_train[\"results\"].values).view(-1, 1)"
   ]
  },
  {
   "cell_type": "code",
   "execution_count": 16,
   "metadata": {
    "id": "8ImUBT2M-iyf"
   },
   "outputs": [],
   "source": [
    "model = LogReg(x.shape[1])"
   ]
  },
  {
   "cell_type": "code",
   "execution_count": 17,
   "metadata": {
    "colab": {
     "base_uri": "https://localhost:8080/",
     "height": 472
    },
    "id": "oQEqFk_UVJau",
    "outputId": "5b348417-b694-48a6-b0bc-3421e1ca2093"
   },
   "outputs": [
    {
     "data": {
      "image/png": "[encoded data removed]",
      "text/plain": [
       "<Figure size 640x480 with 1 Axes>"
      ]
     },
     "metadata": {},
     "output_type": "display_data"
    }
   ],
   "source": [
    "NUM_ITERS = 100\n",
    "\n",
    "model = LogReg(x.shape[1])\n",
    "\n",
    "criterion = nn.BCELoss()\n",
    "optimizer = torch.optim.Adam(model.parameters(), lr=0.1)\n",
    "losses = []\n",
    "\n",
    "fig, ax = plt.subplots()\n",
    "\n",
    "for i in range(NUM_ITERS):\n",
    "    optimizer.zero_grad()\n",
    "    preds = model(x)\n",
    "\n",
    "    loss = criterion(preds, y)\n",
    "    loss.backward()\n",
    "\n",
    "    optimizer.step()\n",
    "\n",
    "    losses.append(loss.detach().item())\n",
    "\n",
    "    clear_output(wait=True)\n",
    "    ax.plot(losses)\n",
    "    ax.set_xlabel('step')\n",
    "    ax.set_ylabel('loss')\n",
    "    ax.set_title('Loss');\n",
    "    display(fig)\n",
    "\n",
    "clear_output(wait=True)"
   ]
  },
  {
   "cell_type": "markdown",
   "metadata": {
    "id": "OAvIDzTQc4s0"
   },
   "source": [
    "Найдем лучших игроков по мнению нашей модели."
   ]
  },
  {
   "cell_type": "code",
   "execution_count": 18,
   "metadata": {
    "id": "sVZpX4VRXaOC"
   },
   "outputs": [],
   "source": [
    "player_skill = {}\n",
    "\n",
    "linear_weights = model.linear.weight.data[0].numpy()\n",
    "feature_names = ohe.get_feature_names_out()\n",
    "\n",
    "for idx, player_id in enumerate(feature_names):\n",
    "    if player_id.startswith('team_members'):\n",
    "        player_skill[int(player_id[13:])] = linear_weights[idx]\n",
    "        \n",
    "top = sorted(\n",
    "    [(player_id, power) for player_id, power in player_skill.items()],\n",
    "    reverse=True, key=lambda x: x[1]\n",
    "            )[:30]\n",
    "\n",
    "dict_top = defaultdict(list)\n",
    "\n",
    "for place, (player_id, power) in enumerate(top, 1):\n",
    "    dict_top['id'].append(player_id)\n",
    "    dict_top['skill'].append(power)\n",
    "    dict_top['place'].append(place)\n",
    "    dict_top[\"name\"].append(players.loc[player_id][\"name\"])\n",
    "    dict_top[\"surname\"].append(players.loc[player_id][\"surname\"])\n",
    "dict_top = pd.DataFrame(dict_top)"
   ]
  },
  {
   "cell_type": "code",
   "execution_count": 19,
   "metadata": {
    "colab": {
     "base_uri": "https://localhost:8080/",
     "height": 990
    },
    "id": "29nmGMblc9fs",
    "outputId": "61d57158-91aa-41e2-8397-3688f2e41335"
   },
   "outputs": [
    {
     "data": {
      "text/html": [
       "<div>\n",
       "<style scoped>\n",
       "    .dataframe tbody tr th:only-of-type {\n",
       "        vertical-align: middle;\n",
       "    }\n",
       "\n",
       "    .dataframe tbody tr th {\n",
       "        vertical-align: top;\n",
       "    }\n",
       "\n",
       "    .dataframe thead th {\n",
       "        text-align: right;\n",
       "    }\n",
       "</style>\n",
       "<table border=\"1\" class=\"dataframe\">\n",
       "  <thead>\n",
       "    <tr style=\"text-align: right;\">\n",
       "      <th></th>\n",
       "      <th>id</th>\n",
       "      <th>skill</th>\n",
       "      <th>place</th>\n",
       "      <th>name</th>\n",
       "      <th>surname</th>\n",
       "    </tr>\n",
       "  </thead>\n",
       "  <tbody>\n",
       "    <tr>\n",
       "      <th>0</th>\n",
       "      <td>36844</td>\n",
       "      <td>4.077776</td>\n",
       "      <td>1</td>\n",
       "      <td>Павел</td>\n",
       "      <td>Щербина</td>\n",
       "    </tr>\n",
       "    <tr>\n",
       "      <th>1</th>\n",
       "      <td>27403</td>\n",
       "      <td>3.391380</td>\n",
       "      <td>2</td>\n",
       "      <td>Максим</td>\n",
       "      <td>Руссо</td>\n",
       "    </tr>\n",
       "    <tr>\n",
       "      <th>2</th>\n",
       "      <td>4270</td>\n",
       "      <td>3.267650</td>\n",
       "      <td>3</td>\n",
       "      <td>Александра</td>\n",
       "      <td>Брутер</td>\n",
       "    </tr>\n",
       "    <tr>\n",
       "      <th>3</th>\n",
       "      <td>28751</td>\n",
       "      <td>3.239450</td>\n",
       "      <td>4</td>\n",
       "      <td>Иван</td>\n",
       "      <td>Семушин</td>\n",
       "    </tr>\n",
       "    <tr>\n",
       "      <th>4</th>\n",
       "      <td>40411</td>\n",
       "      <td>3.150899</td>\n",
       "      <td>5</td>\n",
       "      <td>Дмитрий</td>\n",
       "      <td>Кудинов</td>\n",
       "    </tr>\n",
       "    <tr>\n",
       "      <th>5</th>\n",
       "      <td>38175</td>\n",
       "      <td>3.083891</td>\n",
       "      <td>6</td>\n",
       "      <td>Максим</td>\n",
       "      <td>Пилипенко</td>\n",
       "    </tr>\n",
       "    <tr>\n",
       "      <th>6</th>\n",
       "      <td>30152</td>\n",
       "      <td>3.078051</td>\n",
       "      <td>7</td>\n",
       "      <td>Артём</td>\n",
       "      <td>Сорожкин</td>\n",
       "    </tr>\n",
       "    <tr>\n",
       "      <th>7</th>\n",
       "      <td>30270</td>\n",
       "      <td>3.074029</td>\n",
       "      <td>8</td>\n",
       "      <td>Сергей</td>\n",
       "      <td>Спешков</td>\n",
       "    </tr>\n",
       "    <tr>\n",
       "      <th>8</th>\n",
       "      <td>27822</td>\n",
       "      <td>3.072727</td>\n",
       "      <td>9</td>\n",
       "      <td>Михаил</td>\n",
       "      <td>Савченков</td>\n",
       "    </tr>\n",
       "    <tr>\n",
       "      <th>9</th>\n",
       "      <td>202410</td>\n",
       "      <td>2.973523</td>\n",
       "      <td>10</td>\n",
       "      <td>Валентина</td>\n",
       "      <td>Подюкова</td>\n",
       "    </tr>\n",
       "    <tr>\n",
       "      <th>10</th>\n",
       "      <td>20691</td>\n",
       "      <td>2.950890</td>\n",
       "      <td>11</td>\n",
       "      <td>Станислав</td>\n",
       "      <td>Мереминский</td>\n",
       "    </tr>\n",
       "    <tr>\n",
       "      <th>11</th>\n",
       "      <td>18036</td>\n",
       "      <td>2.948875</td>\n",
       "      <td>12</td>\n",
       "      <td>Михаил</td>\n",
       "      <td>Левандовский</td>\n",
       "    </tr>\n",
       "    <tr>\n",
       "      <th>12</th>\n",
       "      <td>26089</td>\n",
       "      <td>2.907416</td>\n",
       "      <td>13</td>\n",
       "      <td>Ирина</td>\n",
       "      <td>Прокофьева</td>\n",
       "    </tr>\n",
       "    <tr>\n",
       "      <th>13</th>\n",
       "      <td>22799</td>\n",
       "      <td>2.879824</td>\n",
       "      <td>14</td>\n",
       "      <td>Сергей</td>\n",
       "      <td>Николенко</td>\n",
       "    </tr>\n",
       "    <tr>\n",
       "      <th>14</th>\n",
       "      <td>87637</td>\n",
       "      <td>2.873207</td>\n",
       "      <td>15</td>\n",
       "      <td>Антон</td>\n",
       "      <td>Саксонов</td>\n",
       "    </tr>\n",
       "    <tr>\n",
       "      <th>15</th>\n",
       "      <td>22935</td>\n",
       "      <td>2.859143</td>\n",
       "      <td>16</td>\n",
       "      <td>Илья</td>\n",
       "      <td>Новиков</td>\n",
       "    </tr>\n",
       "    <tr>\n",
       "      <th>16</th>\n",
       "      <td>18332</td>\n",
       "      <td>2.849684</td>\n",
       "      <td>17</td>\n",
       "      <td>Александр</td>\n",
       "      <td>Либер</td>\n",
       "    </tr>\n",
       "    <tr>\n",
       "      <th>17</th>\n",
       "      <td>34328</td>\n",
       "      <td>2.846469</td>\n",
       "      <td>18</td>\n",
       "      <td>Михаил</td>\n",
       "      <td>Царёв</td>\n",
       "    </tr>\n",
       "    <tr>\n",
       "      <th>18</th>\n",
       "      <td>21698</td>\n",
       "      <td>2.822559</td>\n",
       "      <td>19</td>\n",
       "      <td>Александр</td>\n",
       "      <td>Мосягин</td>\n",
       "    </tr>\n",
       "    <tr>\n",
       "      <th>19</th>\n",
       "      <td>12785</td>\n",
       "      <td>2.820987</td>\n",
       "      <td>20</td>\n",
       "      <td>Вадим</td>\n",
       "      <td>Ишин</td>\n",
       "    </tr>\n",
       "    <tr>\n",
       "      <th>20</th>\n",
       "      <td>210174</td>\n",
       "      <td>2.812446</td>\n",
       "      <td>21</td>\n",
       "      <td>Анна</td>\n",
       "      <td>Карпелевич</td>\n",
       "    </tr>\n",
       "    <tr>\n",
       "      <th>21</th>\n",
       "      <td>56647</td>\n",
       "      <td>2.810016</td>\n",
       "      <td>22</td>\n",
       "      <td>Наталья</td>\n",
       "      <td>Горелова</td>\n",
       "    </tr>\n",
       "    <tr>\n",
       "      <th>22</th>\n",
       "      <td>7008</td>\n",
       "      <td>2.804675</td>\n",
       "      <td>23</td>\n",
       "      <td>Алексей</td>\n",
       "      <td>Гилёв</td>\n",
       "    </tr>\n",
       "    <tr>\n",
       "      <th>23</th>\n",
       "      <td>13689</td>\n",
       "      <td>2.801824</td>\n",
       "      <td>24</td>\n",
       "      <td>Дмитрий</td>\n",
       "      <td>Карякин</td>\n",
       "    </tr>\n",
       "    <tr>\n",
       "      <th>24</th>\n",
       "      <td>30260</td>\n",
       "      <td>2.799666</td>\n",
       "      <td>25</td>\n",
       "      <td>Евгений</td>\n",
       "      <td>Спектор</td>\n",
       "    </tr>\n",
       "    <tr>\n",
       "      <th>25</th>\n",
       "      <td>18194</td>\n",
       "      <td>2.799033</td>\n",
       "      <td>26</td>\n",
       "      <td>Мария</td>\n",
       "      <td>Кленницкая</td>\n",
       "    </tr>\n",
       "    <tr>\n",
       "      <th>26</th>\n",
       "      <td>707</td>\n",
       "      <td>2.786515</td>\n",
       "      <td>27</td>\n",
       "      <td>Елена</td>\n",
       "      <td>Александрова</td>\n",
       "    </tr>\n",
       "    <tr>\n",
       "      <th>27</th>\n",
       "      <td>4226</td>\n",
       "      <td>2.777263</td>\n",
       "      <td>28</td>\n",
       "      <td>Сусанна</td>\n",
       "      <td>Бровер</td>\n",
       "    </tr>\n",
       "    <tr>\n",
       "      <th>28</th>\n",
       "      <td>19915</td>\n",
       "      <td>2.767306</td>\n",
       "      <td>29</td>\n",
       "      <td>Александр</td>\n",
       "      <td>Марков</td>\n",
       "    </tr>\n",
       "    <tr>\n",
       "      <th>29</th>\n",
       "      <td>1585</td>\n",
       "      <td>2.762796</td>\n",
       "      <td>30</td>\n",
       "      <td>Юлия</td>\n",
       "      <td>Архангельская</td>\n",
       "    </tr>\n",
       "  </tbody>\n",
       "</table>\n",
       "</div>"
      ],
      "text/plain": [
       "        id     skill  place        name        surname\n",
       "0    36844  4.077776      1       Павел        Щербина\n",
       "1    27403  3.391380      2      Максим          Руссо\n",
       "2     4270  3.267650      3  Александра         Брутер\n",
       "3    28751  3.239450      4        Иван        Семушин\n",
       "4    40411  3.150899      5     Дмитрий        Кудинов\n",
       "5    38175  3.083891      6      Максим      Пилипенко\n",
       "6    30152  3.078051      7       Артём       Сорожкин\n",
       "7    30270  3.074029      8      Сергей        Спешков\n",
       "8    27822  3.072727      9      Михаил      Савченков\n",
       "9   202410  2.973523     10   Валентина       Подюкова\n",
       "10   20691  2.950890     11   Станислав    Мереминский\n",
       "11   18036  2.948875     12      Михаил   Левандовский\n",
       "12   26089  2.907416     13       Ирина     Прокофьева\n",
       "13   22799  2.879824     14      Сергей      Николенко\n",
       "14   87637  2.873207     15       Антон       Саксонов\n",
       "15   22935  2.859143     16        Илья        Новиков\n",
       "16   18332  2.849684     17   Александр          Либер\n",
       "17   34328  2.846469     18      Михаил          Царёв\n",
       "18   21698  2.822559     19   Александр        Мосягин\n",
       "19   12785  2.820987     20       Вадим           Ишин\n",
       "20  210174  2.812446     21        Анна     Карпелевич\n",
       "21   56647  2.810016     22     Наталья       Горелова\n",
       "22    7008  2.804675     23     Алексей          Гилёв\n",
       "23   13689  2.801824     24     Дмитрий        Карякин\n",
       "24   30260  2.799666     25     Евгений        Спектор\n",
       "25   18194  2.799033     26       Мария     Кленницкая\n",
       "26     707  2.786515     27       Елена   Александрова\n",
       "27    4226  2.777263     28     Сусанна         Бровер\n",
       "28   19915  2.767306     29   Александр         Марков\n",
       "29    1585  2.762796     30        Юлия  Архангельская"
      ]
     },
     "execution_count": 19,
     "metadata": {},
     "output_type": "execute_result"
    }
   ],
   "source": [
    "dict_top"
   ]
  },
  {
   "cell_type": "code",
   "execution_count": 20,
   "metadata": {},
   "outputs": [],
   "source": [
    "torch.save(model.state_dict(), \"./lm.pth\")"
   ]
  },
  {
   "cell_type": "markdown",
   "metadata": {
    "id": "0Q1iH1kDlaYm"
   },
   "source": [
    "## TODO: Сравнить с реальным рейтингом\n",
    "Не получилось найти способ, чтобы получить топ-игроков :("
   ]
  },
  {
   "cell_type": "markdown",
   "metadata": {
    "id": "XQhI5F9clhAX"
   },
   "source": [
    "## Рейтинг система"
   ]
  },
  {
   "cell_type": "markdown",
   "metadata": {},
   "source": [
    "Предложенное решение:\n",
    "\n",
    "Пусть сила команды - вероятность ответить на средний вопрос турнира хотя бы одному из участников команды, т.е:\n",
    "\n",
    "$$ Skill_{team} = 1 - \\prod_{i=1}^N(1 - sigmoid(P_{i} + Q_{diffmean} + b)$$, где $P_{i}$ - скилл игрока $i$, $N$ - количество игроков в команде,  $Q_{diffmean}$ - средняя сложность вопроса на турнире, а $b$ - bias."
   ]
  },
  {
   "cell_type": "code",
   "execution_count": 22,
   "metadata": {
    "colab": {
     "base_uri": "https://localhost:8080/"
    },
    "id": "uc3sULb1w9U9",
    "outputId": "8094953c-4b87-46ae-d18e-6c9fc2503111"
   },
   "outputs": [
    {
     "data": {
      "text/plain": [
       "<All keys matched successfully>"
      ]
     },
     "execution_count": 22,
     "metadata": {},
     "output_type": "execute_result"
    }
   ],
   "source": [
    "model.load_state_dict(torch.load(\"./lm.pth\"))"
   ]
  },
  {
   "cell_type": "code",
   "execution_count": 23,
   "metadata": {
    "id": "mpPSnpPpn52L"
   },
   "outputs": [],
   "source": [
    "class TeamRanking:\n",
    "\n",
    "    def __init__(self, model, ohe):\n",
    "        self.player_skill = {}\n",
    "        self.tourn_q_diff = defaultdict(list)\n",
    "\n",
    "        linear_weights = model.linear.weight.data[0].numpy()\n",
    "        feature_names = ohe.get_feature_names_out()\n",
    "\n",
    "        for idx, player_id in enumerate(feature_names):\n",
    "            if player_id.startswith('team_members'):\n",
    "                self.player_skill[int(player_id[13:])] = linear_weights[idx]\n",
    "            else:\n",
    "                self.tourn_q_diff[player_id.split(\"_\")[2]].append(linear_weights[idx])\n",
    "        \n",
    "        self.tourn_q_mean = {t_id: np.mean(q) for t_id, q in self.tourn_q_diff.items()}\n",
    "        self.na_q = sum(self.tourn_q_mean.values()) / len(self.tourn_q_mean)\n",
    "        self.na_player = sum(self.player_skill.values()) / len(self.player_skill)\n",
    "        self.bias = model.linear.bias.data[0].numpy()\n",
    "    \n",
    "    def sigmoid(self, x):\n",
    "        return 1 / (1 + np.exp(-x))\n",
    "\n",
    "    def predict(self, data):\n",
    "        data = data.copy()\n",
    "        data[\"player_skill\"] = data[\"team_members\"].map(self.player_skill)\n",
    "        data[\"player_skill\"].fillna(self.na_player, inplace=True)\n",
    "        \n",
    "        data[\"tourn_q_mean\"] = data[\"id\"].map(self.tourn_q_mean)\n",
    "        data[\"tourn_q_mean\"].fillna(self.na_q, inplace=True)\n",
    "        \n",
    "        data[\"prob2answer\"] = data.apply(lambda row: self.sigmoid(row[\"player_skill\"] + row[\"tourn_q_mean\"] + self.bias), axis=1)\n",
    "        \n",
    "        ratings = data.groupby([\"id\", \"teams\"])[\"prob2answer\"].apply(lambda x: np.prod(1 - x))\n",
    "        real_position = data.groupby([\"id\", \"teams\"])[\"position\"].first()\n",
    "        \n",
    "        result = pd.concat([ratings, real_position], axis=1)\n",
    "        result.sort_values([\"id\", \"prob2answer\"], ascending=[True, True], inplace=True)\n",
    "        \n",
    "        return result\n",
    "\n",
    "    def eval(self, result):\n",
    "        def safe_spearman(x, y):\n",
    "            try:\n",
    "                return spearmanr(x, y).correlation\n",
    "            except:\n",
    "                return 1\n",
    "\n",
    "        spearman = result.groupby(\"id\").apply(lambda x: safe_spearman(x[\"position\"], x[\"prob2answer\"])).mean()\n",
    "        kendall = result.groupby(\"id\").apply(lambda x: kendalltau(x[\"position\"], x[\"prob2answer\"]).correlation).mean()\n",
    "        \n",
    "        return spearman, kendall\n",
    "\n",
    "\n",
    "        "
   ]
  },
  {
   "cell_type": "code",
   "execution_count": 24,
   "metadata": {
    "colab": {
     "base_uri": "https://localhost:8080/"
    },
    "id": "agXierYnxGZD",
    "outputId": "8c8d058f-978d-4551-8a38-de5b81a7739e"
   },
   "outputs": [
    {
     "data": {
      "text/plain": [
       "10"
      ]
     },
     "execution_count": 24,
     "metadata": {},
     "output_type": "execute_result"
    }
   ],
   "source": [
    "import gc\n",
    "torch.cuda.empty_cache()\n",
    "gc.collect()"
   ]
  },
  {
   "cell_type": "code",
   "execution_count": 25,
   "metadata": {
    "id": "BrdLNWs_rHJw"
   },
   "outputs": [],
   "source": [
    "ranking_model = TeamRanking(model, ohe)"
   ]
  },
  {
   "cell_type": "code",
   "execution_count": 26,
   "metadata": {
    "id": "Mn3W-EEgoiwe"
   },
   "outputs": [],
   "source": [
    "res = ranking_model.predict(data_test)"
   ]
  },
  {
   "cell_type": "code",
   "execution_count": 27,
   "metadata": {
    "id": "LVI8jjHdxztn"
   },
   "outputs": [],
   "source": [
    "spearman, kendall = ranking_model.eval(res)"
   ]
  },
  {
   "cell_type": "code",
   "execution_count": 28,
   "metadata": {
    "colab": {
     "base_uri": "https://localhost:8080/"
    },
    "id": "_2C5bjHqrb3v",
    "outputId": "e2623d80-4151-48a3-ed0e-6272b6c1f248"
   },
   "outputs": [
    {
     "name": "stdout",
     "output_type": "stream",
     "text": [
      "Spearman rho test: 0.7899785631893803\n",
      "Kendall rho test: 0.6299620826434364\n"
     ]
    }
   ],
   "source": [
    "print(f'Spearman rho test: {spearman}')\n",
    "print(f'Kendall rho test: {kendall}')"
   ]
  },
  {
   "cell_type": "markdown",
   "metadata": {
    "id": "hJ-ZOuewyF5T"
   },
   "source": [
    "## EM - схема"
   ]
  },
  {
   "cell_type": "markdown",
   "metadata": {},
   "source": [
    "Будем считать что:\n",
    "\n",
    "При ответе одного игрока команды на вопрос на вопрос автоматически отвечают все игроки команды: $p(team_i = 1|player_j = 1) = 1$, если команда неправильно ответила на вопрос, то ни один игрок этой команды не ответил на этот вопрос: $p(player_j = 1 | \n",
    "team_i = 0) = 0$, выполняется условие независимости ответов игроков на вопросы\n",
    "\n",
    "Теперь мы будем предсказывать не $p(player_j = 1) = 1$, а $p(player_{j} = 1 | team_i = 1)$, где $j \\in team_i$ \n",
    "\n",
    "По теореме Байеса:\n",
    "\n",
    "<center>$p(player_{j} = 1 | team_i = 1) = \\frac{p(team_{i} = 1 | player_j = 1)p(player_j = 1)}{p(team_i = 1)}$</center>\n",
    "\n",
    "Тогда используя наши предположения, можем найти обновление вероятностей, которое представляет собой Expectation шаг:\n",
    "\n",
    "<center>$p(player_{j} = 1 | team_i = 1) = \\frac{sigmoid(P_{i} + Q_{diffmean} + b)}{\\prod_{i=1}^N(1 - sigmoid(P_{i} + Q_{diffmean} + b))}$</center>"
   ]
  },
  {
   "cell_type": "code",
   "execution_count": 29,
   "metadata": {
    "id": "XIWQCJIl1hmg"
   },
   "outputs": [],
   "source": [
    "def expectation_step(data, new_predictions):\n",
    "    data[\"y_pred\"] = new_predictions\n",
    "    data.loc[data[\"results\"] == 0, \"y_pred\"] = 0\n",
    "    denom = data.loc[data[\"results\"] == 1].groupby([\"teams\", \"id_q\"])[\"y_pred\"].transform(lambda x: 1 - np.prod(1 - x.values))\n",
    "    data.loc[data[\"results\"] == 1, \"y_pred\"] = data.loc[data[\"results\"] == 1, \"y_pred\"] / denom\n",
    "    return data"
   ]
  },
  {
   "cell_type": "code",
   "execution_count": 25,
   "metadata": {},
   "outputs": [],
   "source": [
    "data = data_train.copy()"
   ]
  },
  {
   "cell_type": "code",
   "execution_count": 23,
   "metadata": {},
   "outputs": [],
   "source": [
    "%matplotlib inline"
   ]
  },
  {
   "cell_type": "code",
   "execution_count": 26,
   "metadata": {
    "colab": {
     "base_uri": "https://localhost:8080/"
    },
    "id": "c0VfkmZg84JI",
    "outputId": "47f2c12d-7b02-43c8-82e5-5e534c3ba811"
   },
   "outputs": [
    {
     "name": "stdout",
     "output_type": "stream",
     "text": [
      "Epoch: 10\n",
      "Spearman: 0.8059419436747862\n",
      "Kendall: 0.6498619528612088\n"
     ]
    },
    {
     "data": {
      "image/png": "[encoded data removed]",
      "text/plain": [
       "<Figure size 1500x800 with 2 Axes>"
      ]
     },
     "metadata": {},
     "output_type": "display_data"
    },
    {
     "data": {
      "image/png": "[encoded data removed]",
      "text/plain": [
       "<Figure size 1500x800 with 2 Axes>"
      ]
     },
     "metadata": {},
     "output_type": "display_data"
    }
   ],
   "source": [
    "NUM_ITERS = 10\n",
    "\n",
    "losses = []\n",
    "spearmans = []\n",
    "kendalls = []\n",
    "\n",
    "model.eval()\n",
    "predictions = model(x).detach().numpy().ravel()\n",
    "fig, ax = plt.subplots(1, 2, figsize=(15, 8))\n",
    "\n",
    "for i in range(NUM_ITERS):\n",
    "    model.train()\n",
    "    print(\"Entering function\")\n",
    "    data = expectation_step(data, predictions)\n",
    "    y = torch.FloatTensor(data['y_pred'].values).view(-1, 1)\n",
    "\n",
    "    criterion = nn.BCELoss()\n",
    "    optimizer = torch.optim.Adam(model.parameters(), lr=0.1)\n",
    "    n_iter = 100\n",
    "\n",
    "    for j in tqdm(range(n_iter)):\n",
    "        optimizer.zero_grad()\n",
    "        preds = model(x)\n",
    "\n",
    "        loss = criterion(preds, y)\n",
    "        loss.backward()\n",
    "\n",
    "        optimizer.step()\n",
    "        \n",
    "    model.eval()\n",
    "    predictions = model(x).detach().numpy().ravel()\n",
    "\n",
    "    ranking_model = TeamRanking(model, ohe)\n",
    "    res = ranking_model.predict(data_test)\n",
    "    spearman, kendall = ranking_model.eval(res)\n",
    "\n",
    "    spearmans.append(spearman)\n",
    "    kendalls.append(kendall)\n",
    "    \n",
    "    clear_output(wait=True)\n",
    "    print(f\"Epoch: {i + 1}\")\n",
    "    print(f\"Spearman: {spearman}\")\n",
    "    print(f\"Kendall: {kendall}\")\n",
    "    \n",
    "    ax[0].plot(spearmans)\n",
    "    ax[0].set_xlabel(\"Spearman rho:\")\n",
    "    ax[1].plot(kendalls)\n",
    "    ax[1].set_xlabel(\"Kendall rho: \")\n",
    "    display(fig)"
   ]
  },
  {
   "cell_type": "code",
   "execution_count": 27,
   "metadata": {},
   "outputs": [],
   "source": [
    "torch.save(model.state_dict(), \"./final_em_model.pt\")"
   ]
  },
  {
   "cell_type": "markdown",
   "metadata": {},
   "source": [
    "Видим, что EM-схема тут помогла, но немного странно, что потом метрики начали падать"
   ]
  },
  {
   "cell_type": "markdown",
   "metadata": {},
   "source": [
    "## Рейтинг-лист"
   ]
  },
  {
   "cell_type": "markdown",
   "metadata": {},
   "source": [
    "Попробуем оценить сложность турниров через среднюю сложность вопросов на нем"
   ]
  },
  {
   "cell_type": "code",
   "execution_count": 34,
   "metadata": {},
   "outputs": [],
   "source": [
    "parameters = model.linear.weight.data[0].numpy()\n",
    "tourn_q_mean = defaultdict(list)\n",
    "\n",
    "for i, name in enumerate(ohe.get_feature_names_out()):\n",
    "    if name.startswith('id_q'):\n",
    "        tourn_q_mean[int(name.split('_')[2])].append(parameters[i])\n",
    "tourn_q_mean = {t_id: np.mean(q) for t_id, q in tourn_q_mean.items()}"
   ]
  },
  {
   "cell_type": "code",
   "execution_count": 35,
   "metadata": {},
   "outputs": [],
   "source": [
    "top_tourns = tournaments_train[[\"id\", \"name\"]].copy()\n",
    "top_tourns['rating'] = top_tourns[\"id\"].map(tourn_q_mean)"
   ]
  },
  {
   "cell_type": "code",
   "execution_count": 36,
   "metadata": {},
   "outputs": [],
   "source": [
    "top_tourns.sort_values('rating', inplace=True)"
   ]
  },
  {
   "cell_type": "markdown",
   "metadata": {},
   "source": [
    "Самые сложные турниры:"
   ]
  },
  {
   "cell_type": "code",
   "execution_count": 37,
   "metadata": {},
   "outputs": [
    {
     "data": {
      "text/html": [
       "<div>\n",
       "<style scoped>\n",
       "    .dataframe tbody tr th:only-of-type {\n",
       "        vertical-align: middle;\n",
       "    }\n",
       "\n",
       "    .dataframe tbody tr th {\n",
       "        vertical-align: top;\n",
       "    }\n",
       "\n",
       "    .dataframe thead th {\n",
       "        text-align: right;\n",
       "    }\n",
       "</style>\n",
       "<table border=\"1\" class=\"dataframe\">\n",
       "  <thead>\n",
       "    <tr style=\"text-align: right;\">\n",
       "      <th></th>\n",
       "      <th>id</th>\n",
       "      <th>name</th>\n",
       "      <th>rating</th>\n",
       "    </tr>\n",
       "  </thead>\n",
       "  <tbody>\n",
       "    <tr>\n",
       "      <th>674</th>\n",
       "      <td>6149</td>\n",
       "      <td>Чемпионат Санкт-Петербурга. Первая лига</td>\n",
       "      <td>-4.525503</td>\n",
       "    </tr>\n",
       "    <tr>\n",
       "      <th>549</th>\n",
       "      <td>5928</td>\n",
       "      <td>Угрюмый Ёрш</td>\n",
       "      <td>-2.562106</td>\n",
       "    </tr>\n",
       "    <tr>\n",
       "      <th>375</th>\n",
       "      <td>5684</td>\n",
       "      <td>Синхрон высшей лиги Москвы</td>\n",
       "      <td>-2.382765</td>\n",
       "    </tr>\n",
       "    <tr>\n",
       "      <th>650</th>\n",
       "      <td>6101</td>\n",
       "      <td>Воображаемый музей</td>\n",
       "      <td>-2.288672</td>\n",
       "    </tr>\n",
       "    <tr>\n",
       "      <th>43</th>\n",
       "      <td>5159</td>\n",
       "      <td>Первенство правого полушария</td>\n",
       "      <td>-2.216910</td>\n",
       "    </tr>\n",
       "    <tr>\n",
       "      <th>551</th>\n",
       "      <td>5930</td>\n",
       "      <td>Зеркало мемориала памяти Михаила Басса</td>\n",
       "      <td>-2.089704</td>\n",
       "    </tr>\n",
       "    <tr>\n",
       "      <th>288</th>\n",
       "      <td>5587</td>\n",
       "      <td>Записки охотника</td>\n",
       "      <td>-2.063494</td>\n",
       "    </tr>\n",
       "    <tr>\n",
       "      <th>383</th>\n",
       "      <td>5693</td>\n",
       "      <td>Знание – Сила VI</td>\n",
       "      <td>-1.990962</td>\n",
       "    </tr>\n",
       "    <tr>\n",
       "      <th>26</th>\n",
       "      <td>5083</td>\n",
       "      <td>Ускользающая сова</td>\n",
       "      <td>-1.942768</td>\n",
       "    </tr>\n",
       "    <tr>\n",
       "      <th>226</th>\n",
       "      <td>5515</td>\n",
       "      <td>Чемпионат Минска. Лига А. Тур четвёртый</td>\n",
       "      <td>-1.888392</td>\n",
       "    </tr>\n",
       "    <tr>\n",
       "      <th>562</th>\n",
       "      <td>5943</td>\n",
       "      <td>Чемпионат Мира. Этап 2 Группа С</td>\n",
       "      <td>-1.877341</td>\n",
       "    </tr>\n",
       "    <tr>\n",
       "      <th>13</th>\n",
       "      <td>5025</td>\n",
       "      <td>Кубок городов</td>\n",
       "      <td>-1.871954</td>\n",
       "    </tr>\n",
       "    <tr>\n",
       "      <th>561</th>\n",
       "      <td>5942</td>\n",
       "      <td>Чемпионат Мира. Этап 2. Группа В</td>\n",
       "      <td>-1.819130</td>\n",
       "    </tr>\n",
       "    <tr>\n",
       "      <th>179</th>\n",
       "      <td>5465</td>\n",
       "      <td>Чемпионат России</td>\n",
       "      <td>-1.793691</td>\n",
       "    </tr>\n",
       "    <tr>\n",
       "      <th>138</th>\n",
       "      <td>5421</td>\n",
       "      <td>Львов зимой. Адвокат</td>\n",
       "      <td>-1.791200</td>\n",
       "    </tr>\n",
       "  </tbody>\n",
       "</table>\n",
       "</div>"
      ],
      "text/plain": [
       "       id                                     name    rating\n",
       "674  6149  Чемпионат Санкт-Петербурга. Первая лига -4.525503\n",
       "549  5928                              Угрюмый Ёрш -2.562106\n",
       "375  5684               Синхрон высшей лиги Москвы -2.382765\n",
       "650  6101                       Воображаемый музей -2.288672\n",
       "43   5159             Первенство правого полушария -2.216910\n",
       "551  5930   Зеркало мемориала памяти Михаила Басса -2.089704\n",
       "288  5587                         Записки охотника -2.063494\n",
       "383  5693                         Знание – Сила VI -1.990962\n",
       "26   5083                        Ускользающая сова -1.942768\n",
       "226  5515  Чемпионат Минска. Лига А. Тур четвёртый -1.888392\n",
       "562  5943          Чемпионат Мира. Этап 2 Группа С -1.877341\n",
       "13   5025                            Кубок городов -1.871954\n",
       "561  5942         Чемпионат Мира. Этап 2. Группа В -1.819130\n",
       "179  5465                         Чемпионат России -1.793691\n",
       "138  5421                     Львов зимой. Адвокат -1.791200"
      ]
     },
     "execution_count": 37,
     "metadata": {},
     "output_type": "execute_result"
    }
   ],
   "source": [
    "top_tourns[:15]"
   ]
  },
  {
   "cell_type": "markdown",
   "metadata": {},
   "source": [
    "Есть чемпионаты Мира, России, Москвы, Санкт-Петербурга, Минска, выглядит как будто достаточно хорошо нашли сложные турниры"
   ]
  },
  {
   "cell_type": "code",
   "execution_count": 42,
   "metadata": {},
   "outputs": [
    {
     "data": {
      "text/html": [
       "<div>\n",
       "<style scoped>\n",
       "    .dataframe tbody tr th:only-of-type {\n",
       "        vertical-align: middle;\n",
       "    }\n",
       "\n",
       "    .dataframe tbody tr th {\n",
       "        vertical-align: top;\n",
       "    }\n",
       "\n",
       "    .dataframe thead th {\n",
       "        text-align: right;\n",
       "    }\n",
       "</style>\n",
       "<table border=\"1\" class=\"dataframe\">\n",
       "  <thead>\n",
       "    <tr style=\"text-align: right;\">\n",
       "      <th></th>\n",
       "      <th>id</th>\n",
       "      <th>name</th>\n",
       "      <th>rating</th>\n",
       "    </tr>\n",
       "  </thead>\n",
       "  <tbody>\n",
       "    <tr>\n",
       "      <th>597</th>\n",
       "      <td>5990</td>\n",
       "      <td>Открытый кубок УМЭД</td>\n",
       "      <td>1.685030</td>\n",
       "    </tr>\n",
       "    <tr>\n",
       "      <th>72</th>\n",
       "      <td>5313</td>\n",
       "      <td>(а)Синхрон-lite. Лига старта. Эпизод VI</td>\n",
       "      <td>1.698616</td>\n",
       "    </tr>\n",
       "    <tr>\n",
       "      <th>392</th>\n",
       "      <td>5704</td>\n",
       "      <td>(а)Синхрон-lite. Лига старта. Эпизод X</td>\n",
       "      <td>1.713771</td>\n",
       "    </tr>\n",
       "    <tr>\n",
       "      <th>371</th>\n",
       "      <td>5679</td>\n",
       "      <td>Чемпионат Караганды</td>\n",
       "      <td>1.723744</td>\n",
       "    </tr>\n",
       "    <tr>\n",
       "      <th>275</th>\n",
       "      <td>5570</td>\n",
       "      <td>Турнир малых факультетов МГУ</td>\n",
       "      <td>1.738028</td>\n",
       "    </tr>\n",
       "    <tr>\n",
       "      <th>607</th>\n",
       "      <td>6003</td>\n",
       "      <td>Второй тематический турнир имени Джоуи Триббиани</td>\n",
       "      <td>1.744591</td>\n",
       "    </tr>\n",
       "    <tr>\n",
       "      <th>10</th>\n",
       "      <td>5012</td>\n",
       "      <td>Школьный Синхрон-lite. Выпуск 2.5</td>\n",
       "      <td>1.802438</td>\n",
       "    </tr>\n",
       "    <tr>\n",
       "      <th>9</th>\n",
       "      <td>5011</td>\n",
       "      <td>(а)Синхрон-lite. Лига старта. Эпизод IV</td>\n",
       "      <td>1.856552</td>\n",
       "    </tr>\n",
       "    <tr>\n",
       "      <th>300</th>\n",
       "      <td>5601</td>\n",
       "      <td>Межфакультетский кубок МГУ. Отбор №4</td>\n",
       "      <td>1.902398</td>\n",
       "    </tr>\n",
       "    <tr>\n",
       "      <th>390</th>\n",
       "      <td>5702</td>\n",
       "      <td>(а)Синхрон-lite. Лига старта. Эпизод IX</td>\n",
       "      <td>2.011011</td>\n",
       "    </tr>\n",
       "    <tr>\n",
       "      <th>386</th>\n",
       "      <td>5698</td>\n",
       "      <td>(а)Синхрон-lite. Лига старта. Эпизод VII</td>\n",
       "      <td>2.023521</td>\n",
       "    </tr>\n",
       "    <tr>\n",
       "      <th>172</th>\n",
       "      <td>5457</td>\n",
       "      <td>Студенческий чемпионат Калининградской области</td>\n",
       "      <td>2.069706</td>\n",
       "    </tr>\n",
       "    <tr>\n",
       "      <th>154</th>\n",
       "      <td>5438</td>\n",
       "      <td>Синхрон Лиги Разума</td>\n",
       "      <td>2.099525</td>\n",
       "    </tr>\n",
       "    <tr>\n",
       "      <th>7</th>\n",
       "      <td>5009</td>\n",
       "      <td>(а)Синхрон-lite. Лига старта. Эпизод III</td>\n",
       "      <td>2.100133</td>\n",
       "    </tr>\n",
       "    <tr>\n",
       "      <th>11</th>\n",
       "      <td>5013</td>\n",
       "      <td>(а)Синхрон-lite. Лига старта. Эпизод V</td>\n",
       "      <td>2.282517</td>\n",
       "    </tr>\n",
       "  </tbody>\n",
       "</table>\n",
       "</div>"
      ],
      "text/plain": [
       "       id                                              name    rating\n",
       "597  5990                               Открытый кубок УМЭД  1.685030\n",
       "72   5313           (а)Синхрон-lite. Лига старта. Эпизод VI  1.698616\n",
       "392  5704            (а)Синхрон-lite. Лига старта. Эпизод X  1.713771\n",
       "371  5679                               Чемпионат Караганды  1.723744\n",
       "275  5570                      Турнир малых факультетов МГУ  1.738028\n",
       "607  6003  Второй тематический турнир имени Джоуи Триббиани  1.744591\n",
       "10   5012                 Школьный Синхрон-lite. Выпуск 2.5  1.802438\n",
       "9    5011           (а)Синхрон-lite. Лига старта. Эпизод IV  1.856552\n",
       "300  5601              Межфакультетский кубок МГУ. Отбор №4  1.902398\n",
       "390  5702           (а)Синхрон-lite. Лига старта. Эпизод IX  2.011011\n",
       "386  5698          (а)Синхрон-lite. Лига старта. Эпизод VII  2.023521\n",
       "172  5457    Студенческий чемпионат Калининградской области  2.069706\n",
       "154  5438                               Синхрон Лиги Разума  2.099525\n",
       "7    5009          (а)Синхрон-lite. Лига старта. Эпизод III  2.100133\n",
       "11   5013            (а)Синхрон-lite. Лига старта. Эпизод V  2.282517"
      ]
     },
     "execution_count": 42,
     "metadata": {},
     "output_type": "execute_result"
    }
   ],
   "source": [
    "top_tourns[-28:-13]"
   ]
  },
  {
   "cell_type": "markdown",
   "metadata": {},
   "source": [
    "Достаточно много Синхрон-lite, школьных/студенческих турниров, как будто легкие турниры тоже хорошо нашли)"
   ]
  }
 ],
 "metadata": {
  "colab": {
   "provenance": []
  },
  "kernelspec": {
   "display_name": "Python 3 (ipykernel)",
   "language": "python",
   "name": "python3"
  },
  "language_info": {
   "codemirror_mode": {
    "name": "ipython",
    "version": 3
   },
   "file_extension": ".py",
   "mimetype": "text/x-python",
   "name": "python",
   "nbconvert_exporter": "python",
   "pygments_lexer": "ipython3",
   "version": "3.9.6"
  }
 },
 "nbformat": 4,
 "nbformat_minor": 1
}
